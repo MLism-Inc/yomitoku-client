{
  "cells": [
    {
      "cell_type": "markdown",
      "id": "e11b68eb",
      "metadata": {},
      "source": [
        "# Yomitoku Pro Document Analyzer in SageMaker or CloudFormation"
      ]
    },
    {
      "cell_type": "markdown",
      "id": "9c4e470e",
      "metadata": {},
      "source": [
        "## はじめに\n",
        "aws-cliを利用して、aws configureの設定を行ってください。ユーザのアクセスキーを生成し、aws cli credentialsの紐付けを行います。\n",
        "\n",
        "### aws-cliのインストール\n",
        "\n",
        "** Mac OS **\n",
        "```\n",
        "brew update\n",
        "brew install awscli\n",
        "```\n",
        "\n",
        "** Linux **\n",
        "```\n",
        "sudo apt-get update\n",
        "sudo apt-get install -y awscli\n",
        "```\n",
        "\n",
        "** Windows **\n",
        "```\n",
        "winget install --id Amazon.AWSCLI -e\n",
        "```\n",
        "\n",
        "### アクセスキーの発行\n",
        "#### 🧩 ステップ1：AWS マネジメントコンソールにログイン\n",
        "\n",
        "1. https://console.aws.amazon.com/にアクセス\\\n",
        "2. 右上のアカウント名を確認\n",
        "→ ルートユーザーではなく IAMユーザー（例：taro.tanaka@mlism.co.jp）でログインしていることを確認\n",
        "\n",
        "#### ⚙️ ステップ2：IAM 管理画面を開く\n",
        "\n",
        "1. サービス検索バーで「IAM」と入力し、選択\n",
        "2. 左メニューから「ユーザー (Users)」をクリック\n",
        "3. 対象のユーザー名（例：kotaro.kinoshita）をクリック\n",
        "\n",
        "#### 🔑 ステップ3：アクセスキーを発行する\n",
        "\n",
        "1. 「セキュリティ認証情報 (Security credentials)」タブを開く\\\n",
        "2. 「アクセスキー」セクションまでスクロール\n",
        "3. 「アクセスキーを作成 (Create access key)」をクリック\n",
        "\n",
        "\n",
        "### AWS Configureの設定\n",
        "発行したアクセスキーをaws cli credentialsの紐付けを行います。\n",
        "\n",
        "```\n",
        "aws configure\n",
        "```\n",
        "\n",
        "以下のような入力を求められます\n",
        "```\n",
        "AWS Access Key ID [None]: AKIA***************\n",
        "AWS Secret Access Key [None]: wJalrXUtnFEMI/K7MDENG/bPxRfiCY**********\n",
        "Default region name [None]: ap-northeast-1\n",
        "Default output format [None]: json\n",
        "```"
      ]
    },
    {
      "cell_type": "markdown",
      "id": "7a8ae96f",
      "metadata": {},
      "source": [
        "## SageMakerエンドポイントの作成\n",
        "事前に **CloudFormation** または **SageMaker** コンソールを使って、このモデルのエンドポイントを作成します。\n",
        "\n",
        "**必要な権限**: AWS ユーザー/ロールに SageMaker FullAccess 権限があることを確認してください。\n",
        "\n",
        "エンドポイントの作成方法や[URL]を参照してください"
      ]
    },
    {
      "cell_type": "markdown",
      "id": "e1e2b6e5",
      "metadata": {},
      "source": [
        "### 事前セットアップ\n",
        "必要なライブラリをインストールします。"
      ]
    },
    {
      "cell_type": "code",
      "execution_count": 21,
      "id": "fff0747f",
      "metadata": {},
      "outputs": [],
      "source": [
        "import json\n",
        "import boto3\n",
        "from botocore.exceptions import ClientError\n",
        "from pprint import pprint"
      ]
    },
    {
      "cell_type": "markdown",
      "id": "1f812691",
      "metadata": {},
      "source": [
        "### エンドポイントとのセッションを確立\n",
        "以下の情報を入力してください。\n",
        "- `ENDPOINT_NAME`: SageMakerのエンドポイント名を指定します。\n",
        "- `AWS_REGION`: エンドポイントを立ち上げたAWS REGIONを指定します。"
      ]
    },
    {
      "cell_type": "code",
      "execution_count": 3,
      "id": "75c4da57",
      "metadata": {},
      "outputs": [
        {
          "ename": "NameError",
          "evalue": "name 'boto3' is not defined",
          "output_type": "error",
          "traceback": [
            "\u001b[0;31m---------------------------------------------------------------------------\u001b[0m",
            "\u001b[0;31mNameError\u001b[0m                                 Traceback (most recent call last)",
            "Cell \u001b[0;32mIn[3], line 3\u001b[0m\n\u001b[1;32m      1\u001b[0m ENDPOINT_NAME \u001b[38;5;241m=\u001b[39m \u001b[38;5;124m\"\u001b[39m\u001b[38;5;124mmy-endpoint\u001b[39m\u001b[38;5;124m\"\u001b[39m\n\u001b[1;32m      2\u001b[0m AWS_REGION \u001b[38;5;241m=\u001b[39m \u001b[38;5;124m\"\u001b[39m\u001b[38;5;124map-northeast-1\u001b[39m\u001b[38;5;124m\"\u001b[39m\n\u001b[0;32m----> 3\u001b[0m session \u001b[38;5;241m=\u001b[39m \u001b[43mboto3\u001b[49m\u001b[38;5;241m.\u001b[39mSession(profile_name \u001b[38;5;241m=\u001b[39m \u001b[38;5;124m\"\u001b[39m\u001b[38;5;124mdefault\u001b[39m\u001b[38;5;124m\"\u001b[39m, region_name \u001b[38;5;241m=\u001b[39m AWS_REGION)\n\u001b[1;32m      4\u001b[0m sts \u001b[38;5;241m=\u001b[39m session\u001b[38;5;241m.\u001b[39mclient(\u001b[38;5;124m\"\u001b[39m\u001b[38;5;124msts\u001b[39m\u001b[38;5;124m\"\u001b[39m)\n",
            "\u001b[0;31mNameError\u001b[0m: name 'boto3' is not defined"
          ]
        }
      ],
      "source": [
        "ENDPOINT_NAME = \"my-endpoint\"\n",
        "AWS_REGION = \"ap-northeast-1\"\n",
        "session = boto3.Session(profile_name = \"default\", region_name = AWS_REGION)\n",
        "sts = session.client(\"sts\")"
      ]
    },
    {
      "cell_type": "markdown",
      "id": "9d9284c3",
      "metadata": {},
      "source": [
        "AWSユーザーの認証にMFAを利用する場合は以下の情報を入力してください。\n",
        "MFAを利用しない場合は変数はNoneのまま変更は必要ありません。\n",
        "\n",
        "- `MFA_SEAIAL`: arn:aws:iam::<AWS Account ID>:mfa/<MFA Device Name>\n",
        "- `MFA_TOKEN`: MFA Token Code"
      ]
    },
    {
      "cell_type": "code",
      "execution_count": 1,
      "id": "93828d97",
      "metadata": {},
      "outputs": [
        {
          "ename": "NameError",
          "evalue": "name 'boto3' is not defined",
          "output_type": "error",
          "traceback": [
            "\u001b[0;31m---------------------------------------------------------------------------\u001b[0m",
            "\u001b[0;31mNameError\u001b[0m                                 Traceback (most recent call last)",
            "Cell \u001b[0;32mIn[1], line 4\u001b[0m\n\u001b[1;32m      1\u001b[0m MFA_SERIAL \u001b[38;5;241m=\u001b[39m \u001b[38;5;28;01mNone\u001b[39;00m\n\u001b[1;32m      2\u001b[0m MFA_TOKEN_ENV \u001b[38;5;241m=\u001b[39m \u001b[38;5;28;01mNone\u001b[39;00m\n\u001b[0;32m----> 4\u001b[0m \u001b[38;5;28;01mdef\u001b[39;00m\u001b[38;5;250m \u001b[39m\u001b[38;5;21mwith_mfa_session\u001b[39m(base_sess: \u001b[43mboto3\u001b[49m\u001b[38;5;241m.\u001b[39mSession, mfa_serial: \u001b[38;5;28mstr\u001b[39m, token: \u001b[38;5;28mstr\u001b[39m) \u001b[38;5;241m-\u001b[39m\u001b[38;5;241m>\u001b[39m boto3\u001b[38;5;241m.\u001b[39mSession:\n\u001b[1;32m      5\u001b[0m \u001b[38;5;250m    \u001b[39m\u001b[38;5;124;03m\"\"\"\u001b[39;00m\n\u001b[1;32m      6\u001b[0m \u001b[38;5;124;03m    Create a session with MFA authentication.\u001b[39;00m\n\u001b[1;32m      7\u001b[0m \n\u001b[0;32m   (...)\u001b[0m\n\u001b[1;32m     11\u001b[0m \u001b[38;5;124;03m        token: 6-digit MFA code\u001b[39;00m\n\u001b[1;32m     12\u001b[0m \u001b[38;5;124;03m    \"\"\"\u001b[39;00m\n\u001b[1;32m     13\u001b[0m     sts \u001b[38;5;241m=\u001b[39m base_sess\u001b[38;5;241m.\u001b[39mclient(\u001b[38;5;124m\"\u001b[39m\u001b[38;5;124msts\u001b[39m\u001b[38;5;124m\"\u001b[39m)\n",
            "\u001b[0;31mNameError\u001b[0m: name 'boto3' is not defined"
          ]
        }
      ],
      "source": [
        "MFA_SERIAL = None\n",
        "MFA_TOKEN = None\n",
        "\n",
        "def with_mfa_session(base_sess: boto3.Session, mfa_serial: str, token: str) -> boto3.Session:\n",
        "    \"\"\"\n",
        "    Create a session with MFA authentication.\n",
        "\n",
        "    Args:\n",
        "        base_sess: Base boto3 session (default creds / profile)\n",
        "        mfa_serial: MFA device ARN (e.g. arn:aws:iam::...:mfa/xxxx)\n",
        "        token: 6-digit MFA code\n",
        "    \"\"\"\n",
        "    sts = base_sess.client(\"sts\")\n",
        "    resp = sts.get_session_token(\n",
        "        SerialNumber=mfa_serial,\n",
        "        TokenCode=token,\n",
        "        DurationSeconds=43200  # 12h (受账号上限影响)\n",
        "    )\n",
        "    c = resp[\"Credentials\"]\n",
        "    return boto3.Session(\n",
        "        region_name=base_sess.region_name,\n",
        "        aws_access_key_id=c[\"AccessKeyId\"],\n",
        "        aws_secret_access_key=c[\"SecretAccessKey\"],\n",
        "        aws_session_token=c[\"SessionToken\"],\n",
        "    )\n",
        "\n",
        "# -------- Build session (default or MFA) --------\n",
        "base = boto3.Session(region_name=AWS_REGION)\n",
        "\n",
        "if MFA_SERIAL:\n",
        "    token = MFA_TOKEN or input(\"Enter MFA code: \").strip()\n",
        "    try:\n",
        "        session = with_mfa_session(base, MFA_SERIAL, token)\n",
        "        print(\"✅ Using MFA session credentials\")\n",
        "    except ClientError as e:\n",
        "        raise SystemExit(f\"❌ MFA failed: {e}\")\n",
        "else:\n",
        "    session = base\n",
        "    print(\"ℹ️ Using default AWS credentials/profile\")\n",
        "\n",
        "# -------- Clients --------\n",
        "sagemaker_runtime = session.client('sagemaker-runtime')\n",
        "sagemaker         = session.client('sagemaker')\n",
        "\n",
        "# -------- Optional: verify endpoint status --------\n",
        "try:\n",
        "    status = sagemaker.describe_endpoint(EndpointName=ENDPOINT_NAME)[\"EndpointStatus\"]\n",
        "    print(f\"Endpoint status: {status}\")\n",
        "except ClientError as e:\n",
        "    print(f\"Error checking endpoint status: {e}\")\n",
        "    print(\"Make sure your endpoint name is correct and you have proper permissions.\")"
      ]
    },
    {
      "cell_type": "markdown",
      "id": "dc269824",
      "metadata": {},
      "source": [
        "## Supported File Types\n",
        "\n",
        "Yomitoku-Pro SageMakerは以下のファイルタイプをサポートしてます。リクエスト時に`ContentType`を指定する必要があります。\n",
        "\n",
        "- **image/jpeg** - JPEG images\n",
        "- **image/png** - PNG images  \n",
        "- **image/tiff** - TIFF images\n",
        "- **application/pdf** - PDF files\n"
      ]
    },
    {
      "cell_type": "markdown",
      "id": "9fca5828",
      "metadata": {},
      "source": [
        "## エンドポイントの呼び出し\n",
        "\n",
        "この API は、ドキュメントに対して, AI-OCR処理及びレイアウト解析を実行し、読み取り文字列情報やバウンディングボックス（領域座標）、信頼スコア、階層構造化されたテキストブロックを含む構造化データを返します。\n",
        "\n",
        "APIの仕様の詳細ついては以下を参照してください。\n",
        "https://mlism-marketplace-documents.s3.ap-northeast-1.amazonaws.com/yomitoku-pro-document-analyzer-v1-3-2.html\n",
        "\n",
        "** Note **\n",
        "\n",
        "- 大きなファイルについて：大容量の PDF ファイルを処理する場合は、タイムアウトになる可能性もあるため、可能であれば小さなバッチに分割して処理することを推奨します。\n",
        "\n",
        "- エラーハンドリング： 本番環境のコードでは、必ず適切なエラーハンドリングを組み込んでください。APIのエラーに関しては仕様書を参照してください。\n",
        "\n",
        "- パフォーマンス：GPU インスタンスを種類によって、ドキュメントの処理速度が異なります。よりハイエンドのGPUインスタンスを利用することで、より高速に処理可能です。\n"
      ]
    },
    {
      "cell_type": "markdown",
      "id": "368a0567",
      "metadata": {},
      "source": [
        "### Image Analysis (PNG)"
      ]
    },
    {
      "cell_type": "code",
      "execution_count": 27,
      "id": "912ebdb1",
      "metadata": {},
      "outputs": [
        {
          "ename": "ModelError",
          "evalue": "An error occurred (ModelError) when calling the InvokeEndpoint operation: Received client error (400) from primary with message \"{\"detail\":\"Unsupported content type: image/pdf. Supported types: ['image/jpeg', 'image/png', 'image/tiff', 'application/pdf']\"}\". See https://ap-northeast-1.console.aws.amazon.com/cloudwatch/home?region=ap-northeast-1#logEventViewer:group=/aws/sagemaker/Endpoints/my-endpoint in account 025897765203 for more information.",
          "output_type": "error",
          "traceback": [
            "\u001b[0;31m---------------------------------------------------------------------------\u001b[0m",
            "\u001b[0;31mModelError\u001b[0m                                Traceback (most recent call last)",
            "Cell \u001b[0;32mIn[27], line 2\u001b[0m\n\u001b[1;32m      1\u001b[0m \u001b[38;5;28;01mwith\u001b[39;00m \u001b[38;5;28mopen\u001b[39m(\u001b[38;5;124m\"\u001b[39m\u001b[38;5;124m./image.pdf\u001b[39m\u001b[38;5;124m\"\u001b[39m, \u001b[38;5;124m\"\u001b[39m\u001b[38;5;124mrb\u001b[39m\u001b[38;5;124m\"\u001b[39m) \u001b[38;5;28;01mas\u001b[39;00m f:\n\u001b[0;32m----> 2\u001b[0m     response \u001b[38;5;241m=\u001b[39m \u001b[43msagemaker_runtime\u001b[49m\u001b[38;5;241;43m.\u001b[39;49m\u001b[43minvoke_endpoint\u001b[49m\u001b[43m(\u001b[49m\n\u001b[1;32m      3\u001b[0m \u001b[43m        \u001b[49m\u001b[43mEndpointName\u001b[49m\u001b[38;5;241;43m=\u001b[39;49m\u001b[43mENDPOINT_NAME\u001b[49m\u001b[43m,\u001b[49m\n\u001b[1;32m      4\u001b[0m \u001b[43m        \u001b[49m\u001b[43mContentType\u001b[49m\u001b[38;5;241;43m=\u001b[39;49m\u001b[38;5;124;43m\"\u001b[39;49m\u001b[38;5;124;43mimage/pdf\u001b[39;49m\u001b[38;5;124;43m\"\u001b[39;49m\u001b[43m,\u001b[49m\n\u001b[1;32m      5\u001b[0m \u001b[43m        \u001b[49m\u001b[43mBody\u001b[49m\u001b[38;5;241;43m=\u001b[39;49m\u001b[43mf\u001b[49m\u001b[38;5;241;43m.\u001b[39;49m\u001b[43mread\u001b[49m\u001b[43m(\u001b[49m\u001b[43m)\u001b[49m\u001b[43m,\u001b[49m\n\u001b[1;32m      6\u001b[0m \u001b[43m    \u001b[49m\u001b[43m)\u001b[49m\n\u001b[1;32m      8\u001b[0m body_bytes \u001b[38;5;241m=\u001b[39m response[\u001b[38;5;124m\"\u001b[39m\u001b[38;5;124mBody\u001b[39m\u001b[38;5;124m\"\u001b[39m]\u001b[38;5;241m.\u001b[39mread()\n\u001b[1;32m      9\u001b[0m result \u001b[38;5;241m=\u001b[39m json\u001b[38;5;241m.\u001b[39mloads(body_bytes)\n",
            "File \u001b[0;32m~/Projects/mlism/yomitoku-client/.venv/lib/python3.12/site-packages/botocore/client.py:602\u001b[0m, in \u001b[0;36mClientCreator._create_api_method.<locals>._api_call\u001b[0;34m(self, *args, **kwargs)\u001b[0m\n\u001b[1;32m    598\u001b[0m     \u001b[38;5;28;01mraise\u001b[39;00m \u001b[38;5;167;01mTypeError\u001b[39;00m(\n\u001b[1;32m    599\u001b[0m         \u001b[38;5;124mf\u001b[39m\u001b[38;5;124m\"\u001b[39m\u001b[38;5;132;01m{\u001b[39;00mpy_operation_name\u001b[38;5;132;01m}\u001b[39;00m\u001b[38;5;124m() only accepts keyword arguments.\u001b[39m\u001b[38;5;124m\"\u001b[39m\n\u001b[1;32m    600\u001b[0m     )\n\u001b[1;32m    601\u001b[0m \u001b[38;5;66;03m# The \"self\" in this scope is referring to the BaseClient.\u001b[39;00m\n\u001b[0;32m--> 602\u001b[0m \u001b[38;5;28;01mreturn\u001b[39;00m \u001b[38;5;28;43mself\u001b[39;49m\u001b[38;5;241;43m.\u001b[39;49m\u001b[43m_make_api_call\u001b[49m\u001b[43m(\u001b[49m\u001b[43moperation_name\u001b[49m\u001b[43m,\u001b[49m\u001b[43m \u001b[49m\u001b[43mkwargs\u001b[49m\u001b[43m)\u001b[49m\n",
            "File \u001b[0;32m~/Projects/mlism/yomitoku-client/.venv/lib/python3.12/site-packages/botocore/context.py:123\u001b[0m, in \u001b[0;36mwith_current_context.<locals>.decorator.<locals>.wrapper\u001b[0;34m(*args, **kwargs)\u001b[0m\n\u001b[1;32m    121\u001b[0m \u001b[38;5;28;01mif\u001b[39;00m hook:\n\u001b[1;32m    122\u001b[0m     hook()\n\u001b[0;32m--> 123\u001b[0m \u001b[38;5;28;01mreturn\u001b[39;00m \u001b[43mfunc\u001b[49m\u001b[43m(\u001b[49m\u001b[38;5;241;43m*\u001b[39;49m\u001b[43margs\u001b[49m\u001b[43m,\u001b[49m\u001b[43m \u001b[49m\u001b[38;5;241;43m*\u001b[39;49m\u001b[38;5;241;43m*\u001b[39;49m\u001b[43mkwargs\u001b[49m\u001b[43m)\u001b[49m\n",
            "File \u001b[0;32m~/Projects/mlism/yomitoku-client/.venv/lib/python3.12/site-packages/botocore/client.py:1078\u001b[0m, in \u001b[0;36mBaseClient._make_api_call\u001b[0;34m(self, operation_name, api_params)\u001b[0m\n\u001b[1;32m   1074\u001b[0m     error_code \u001b[38;5;241m=\u001b[39m request_context\u001b[38;5;241m.\u001b[39mget(\n\u001b[1;32m   1075\u001b[0m         \u001b[38;5;124m'\u001b[39m\u001b[38;5;124merror_code_override\u001b[39m\u001b[38;5;124m'\u001b[39m\n\u001b[1;32m   1076\u001b[0m     ) \u001b[38;5;129;01mor\u001b[39;00m error_info\u001b[38;5;241m.\u001b[39mget(\u001b[38;5;124m\"\u001b[39m\u001b[38;5;124mCode\u001b[39m\u001b[38;5;124m\"\u001b[39m)\n\u001b[1;32m   1077\u001b[0m     error_class \u001b[38;5;241m=\u001b[39m \u001b[38;5;28mself\u001b[39m\u001b[38;5;241m.\u001b[39mexceptions\u001b[38;5;241m.\u001b[39mfrom_code(error_code)\n\u001b[0;32m-> 1078\u001b[0m     \u001b[38;5;28;01mraise\u001b[39;00m error_class(parsed_response, operation_name)\n\u001b[1;32m   1079\u001b[0m \u001b[38;5;28;01melse\u001b[39;00m:\n\u001b[1;32m   1080\u001b[0m     \u001b[38;5;28;01mreturn\u001b[39;00m parsed_response\n",
            "\u001b[0;31mModelError\u001b[0m: An error occurred (ModelError) when calling the InvokeEndpoint operation: Received client error (400) from primary with message \"{\"detail\":\"Unsupported content type: image/pdf. Supported types: ['image/jpeg', 'image/png', 'image/tiff', 'application/pdf']\"}\". See https://ap-northeast-1.console.aws.amazon.com/cloudwatch/home?region=ap-northeast-1#logEventViewer:group=/aws/sagemaker/Endpoints/my-endpoint in account 025897765203 for more information."
          ]
        }
      ],
      "source": [
        "with open(\"./image.pdf\", \"rb\") as f:\n",
        "    response = sagemaker_runtime.invoke_endpoint(\n",
        "        EndpointName=ENDPOINT_NAME,\n",
        "        ContentType=\"image/pdf\",\n",
        "        Body=f.read(),\n",
        "    )\n",
        "\n",
        "body_bytes = response[\"Body\"].read()\n",
        "result = json.loads(body_bytes)\n",
        "\n",
        "# Display basic information\n",
        "print(\"=== Image Analysis Results ===\")\n",
        "\n",
        "pprint(f\"{result['result']}\"[:500])\n",
        "\n",
        "# Save full result to a JSON file\n",
        "with open(\"result.json\", \"w\") as f:\n",
        "    json.dump(result, f, indent=2, ensure_ascii=False)"
      ]
    },
    {
      "cell_type": "markdown",
      "id": "b44ea0d7",
      "metadata": {},
      "source": [
        "### PDF Analysis"
      ]
    },
    {
      "cell_type": "code",
      "execution_count": 9,
      "id": "5bd57cf9",
      "metadata": {},
      "outputs": [
        {
          "name": "stdout",
          "output_type": "stream",
          "text": [
            "=== Image Analysis Results ===\n",
            "Number of pages analyzed: 9\n",
            "Page 1:\n",
            "(\"{'preprocess': {'angle': 0.0, 'angle_score': 0.9999990463256836}, \"\n",
            " \"'paragraphs': [{'box': [234, 74, 1424, 128], 'contents': \"\n",
            " \"'もっと知りたい!現在·未来のくらしと生活の情報誌', 'direction': 'horizontal', 'order': 0, 'role': \"\n",
            " \"None, 'indent_level': None}, {'box': [248, 150, 1377, 452], 'contents': \"\n",
            " \"'総務省', 'direction': 'horizontal', 'order': 1, 'role': 'section_headings', \"\n",
            " \"'indent_level': None}, {'box': [81, 486, 313, 521], 'contents': '2024 \"\n",
            " \"年11月号', 'direction': 'horizontal', 'order': 2, 'role': None, 'indent_level': \"\n",
            " \"None}, {'\")\n",
            "Page 2:\n",
            "(\"{'preprocess': {'angle': 0.0, 'angle_score': 1.0}, 'paragraphs': [{'box': \"\n",
            " \"[0, 76, 745, 106], 'contents': 'TELEWORK\\\\nLEWORK', 'direction': \"\n",
            " \"'horizontal', 'order': 0, 'role': 'page_header', 'indent_level': None}, \"\n",
            " \"{'box': [910, 77, 2289, 106], 'contents': 'RK\\\\nEWORK TELEWORK', \"\n",
            " \"'direction': 'horizontal', 'order': 1, 'role': 'page_header', \"\n",
            " \"'indent_level': None}, {'box': [2367, 79, 3301, 107], 'contents': \"\n",
            " \"'テレワークのさらなる普及・定着に向け「テレワーク月間」を実施します!\\\\nTELEWORK', 'direction': 'horizontal', \"\n",
            " \"'order': 2, 'role': 'pa\")\n",
            "Page 3:\n",
            "(\"{'preprocess': {'angle': 0.0, 'angle_score': 0.9999990463256836}, \"\n",
            " \"'paragraphs': [{'box': [0, 74, 2311, 108], 'contents': 'TELEWORK\\\\nORK', \"\n",
            " \"'direction': 'horizontal', 'order': 0, 'role': 'page_header', \"\n",
            " \"'indent_level': None}, {'box': [2368, 78, 3303, 108], 'contents': \"\n",
            " \"'テレワークのさらなる普及・定着に向け「テレワーク月間」を実施します!\\\\nTELEWORK', 'direction': 'horizontal', \"\n",
            " \"'order': 1, 'role': 'page_header', 'indent_level': None}, {'box': [155, 167, \"\n",
            " \"1096, 350], 'contents': 'テレワーク·ワンストップ·\\\\nサポート事業', 'direction': 'horizontal', \"\n",
            " \"'order\")\n"
          ]
        }
      ],
      "source": [
        "import json\n",
        "from pprint import pprint\n",
        "\n",
        "with open(\"./image.pdf\", \"rb\") as f:\n",
        "    response = sagemaker_runtime.invoke_endpoint(\n",
        "        EndpointName=ENDPOINT_NAME,\n",
        "        ContentType=\"application/pdf\",\n",
        "        Body=f.read(),\n",
        "    )\n",
        "\n",
        "body_bytes = response[\"Body\"].read()\n",
        "result = json.loads(body_bytes)\n",
        "# Display basic information\n",
        "print(\"=== Image Analysis Results ===\")\n",
        "\n",
        "page_num = 0\n",
        "for item in result[\"result\"][:3]:\n",
        "    page_num += 1\n",
        "    print(f\"Page {page_num}:\")\n",
        "    # top 500 characters\n",
        "    pprint(f\"{item}\"[:500])\n",
        "\n",
        "# Save full result to a JSON file\n",
        "with open(\"result.json\", \"w\") as f:\n",
        "    json.dump(result, f, indent=2, ensure_ascii=False)\n"
      ]
    },
    {
      "cell_type": "markdown",
      "id": "404d5835",
      "metadata": {},
      "source": []
    }
  ],
  "metadata": {
    "kernelspec": {
      "display_name": ".venv",
      "language": "python",
      "name": "python3"
    },
    "language_info": {
      "codemirror_mode": {
        "name": "ipython",
        "version": 3
      },
      "file_extension": ".py",
      "mimetype": "text/x-python",
      "name": "python",
      "nbconvert_exporter": "python",
      "pygments_lexer": "ipython3",
      "version": "3.12.7"
    }
  },
  "nbformat": 4,
  "nbformat_minor": 5
}
