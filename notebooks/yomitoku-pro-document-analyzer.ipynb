{
  "cells": [
    {
      "cell_type": "markdown",
      "metadata": {},
      "source": [
        "# Yomitoku Pro Document Analyzer in SageMaker or CloudFormation"
      ]
    },
    {
      "cell_type": "markdown",
      "id": "7a8ae96f",
      "metadata": {},
      "source": [
        "## Before use\n",
        "Please deploy the service in advance using **CloudFormation** or **SageMaker Console**.\n",
        "\n",
        "**Required Permissions**: Ensure your AWS user/role has SageMaker FullAccess permissions.\n",
        "\n",
        "---\n",
        "\n",
        "### Option 1 — Using SageMaker Console\n",
        "\n",
        "#### Step 1: Model creation\n",
        "1. Go to **AWS Marketplace** → Find your subscribed product → Click **Configure** (設定 in Japanese).  \n",
        "2. Select **SageMaker Console** as the launch method.  \n",
        "3. In SageMaker console, set the following:  \n",
        "   - **Model name**: Any name (e.g., `my-ml-model`)  \n",
        "   - **IAM role**: A role that allows SageMaker to access S3 and other resources  \n",
        "   - **Container settings**: For Marketplace models, this is usually pre-filled automatically  \n",
        "4. Click **Create** to register the model.  \n",
        "\n",
        "---\n",
        "\n",
        "#### Step 2: Endpoint creation\n",
        "1. Open the page of the model you just created, then click **Create endpoint**.  \n",
        "2. Configure the endpoint:  \n",
        "   - **Endpoint name**: Any name (e.g., `my-ml-endpoint`)  \n",
        "   - **Instance type**: Choose a supported type (recommended: `ml.g4dn.xlarge` or `ml.g5.xlarge`)  \n",
        "   - **Number of instances**: Start with 1 (you can enable Auto Scaling later if needed)  \n",
        "3. Click **Create**.  \n",
        "4. Wait until the endpoint status becomes **InService**.  \n",
        "\n",
        "---\n",
        "\n",
        "✅ Once the endpoint is **InService**, you can start sending real-time inference requests.  \n",
        "\n",
        "**To delete (stop billing):**  \n",
        "1. Go to **SageMaker Console → Endpoints**  \n",
        "2. Select your endpoint → Click **Delete**  \n",
        "3. (Optional) Also delete the **Endpoint configuration** and **Model** if no longer needed  \n",
        "\n",
        "**Note**: The instance type is selected during the **endpoint configuration step** after the model is created.\n",
        "\n",
        "---\n",
        "\n",
        "### Option 2 — Using CloudFormation\n",
        "1. Go to **AWS Marketplace** product page → **Configure** → Select **CloudFormation**  \n",
        "2. Click the provided **Launch Stack** link  \n",
        "3. In the CloudFormation page:  \n",
        "   - Set **Stack name** (any name)  \n",
        "   - Confirm parameters (instance type: recommended `ml.g4dn.xlarge` or `ml.g5.xlarge`)  \n",
        "4. Click **Create stack** → Wait until status is **CREATE_COMPLETE**  \n",
        "\n",
        "**To delete (stop billing):**  \n",
        "1. Go to **CloudFormation Console**  \n",
        "2. Select your stack → Click **Delete**  \n",
        "3. Wait until status is **DELETE_COMPLETE**  \n",
        "---\n",
        "\n",
        "## ご利用前に\n",
        "事前に **CloudFormation** または **SageMaker** コンソールを使って、このサービスをデプロイしてください。\n",
        "\n",
        "**必要な権限**: AWS ユーザー/ロールに SageMaker FullAccess 権限があることを確認してください。\n",
        "\n",
        "---\n",
        "\n",
        "## オプション1 — SageMaker コンソールでのデプロイ\n",
        "### Step 1: モデル作成\n",
        "1. **AWS Marketplace** → **サブスクリプションを管理** を開く。  \n",
        "2. 対象のモデルの「アクション」メニューから **設定** をクリック。  \n",
        "3. 起動方法として **SageMaker コンソール** を選択。  \n",
        "4. SageMaker コンソールに遷移したら、以下を設定する：  \n",
        "   - **モデル名**: 任意の名前（例: `my-ml-model`）  \n",
        "   - **IAM ロール**: 必要に応じて SageMaker に S3 などへアクセスできるロールを選択  \n",
        "   - **コンテナ設定**: Marketplace モデルの場合は自動で入力されることが多い  \n",
        "5. 「**作成**」をクリックしてモデルを登録。  \n",
        "\n",
        "### Step 2: エンドポイント作成\n",
        "1. 作成したモデルのページを開き、「**エンドポイントを作成**」をクリック。  \n",
        "2. 以下を設定する：  \n",
        "   - **エンドポイント名**: 任意の名前（例: `my-ml-endpoint`）  \n",
        "   - **インスタンスタイプ**: モデルがサポートするものから選択（例: `ml.g4dn.xlarge` または `ml.g5.xlarge` が推奨）  \n",
        "   - **インスタンス数**: 通常は 1 から開始（スケーリングが必要なら Auto Scaling 設定も可能）  \n",
        "3. 「**作成**」をクリック。  \n",
        "4. ステータスが **InService** になるまで数分待機。  \n",
        "\n",
        "✅ これでエンドポイントが利用可能となり、リアルタイム推論リクエストを送信できる。  \n",
        "\n",
        "\n",
        "**終了する場合（課金を止めるには）**  \n",
        "1. **SageMaker コンソール → エンドポイント** を開く  \n",
        "2. 対象のエンドポイントを選択 → **削除** をクリック  \n",
        "3. （任意）もう使わない場合は **エンドポイント設定** と **モデル** も削除  \n",
        "\n",
        "🔎 **ポイント**\n",
        "- **モデル作成** = どのコンテナ/アーティファクトを使うかを登録するステップ  \n",
        "- **エンドポイント作成** = そのモデルをどのインスタンスで常駐稼働させるかを決めるステップ  \n",
        "\n",
        "\n",
        "### オプション2 — CloudFormationでのデプロイ\n",
        "1. **AWS Marketplace** → 製品ページ → **設定** → **CloudFormation** を選択  \n",
        "2. 表示された **スタックの起動** リンクをクリック  \n",
        "3. CloudFormation ページで以下を設定:  \n",
        "   - **スタック名**（任意の名前）  \n",
        "   - パラメータを確認（インスタンスタイプ: 推奨 `ml.g4dn.xlarge` または `ml.g5.xlarge`）  \n",
        "4. **スタック作成** をクリック → ステータスが **CREATE_COMPLETE** になるまで待機  \n",
        "\n",
        "**終了する場合（課金を止めるには）**  \n",
        "1. **CloudFormation コンソール** を開く  \n",
        "2. 対象のスタックを選択 → **削除** をクリック  \n",
        "3. ステータスが **DELETE_COMPLETE** になるまで待機  "
      ]
    },
    {
      "cell_type": "markdown",
      "id": "d81e656c",
      "metadata": {},
      "source": [
        "## Data Preparation"
      ]
    },
    {
      "cell_type": "markdown",
      "id": "301f0d38",
      "metadata": {},
      "source": [
        "Sample Image：https://mlism-marketplace-documents.s3.ap-northeast-1.amazonaws.com/samples/gallery1.jpg\n",
        "\n",
        "Sample PDF: https://www.soumu.go.jp/main_content/000975178.pdf"
      ]
    },
    {
      "cell_type": "code",
      "execution_count": 1,
      "id": "03cac55b",
      "metadata": {},
      "outputs": [
        {
          "name": "stdout",
          "output_type": "stream",
          "text": [
            "Image saved as image.png\n",
            "PDF saved as image.pdf\n"
          ]
        }
      ],
      "source": [
        "import requests\n",
        "\n",
        "def download_file(url, filename):\n",
        "    response = requests.get(url, stream=True)\n",
        "    if response.status_code == 200:\n",
        "        with open(filename, 'wb') as f:\n",
        "            for chunk in response.iter_content(1024):\n",
        "                f.write(chunk)\n",
        "        file_type = \"Image\" if filename.endswith(\".png\") else \"PDF\"\n",
        "        print(f\"{file_type} saved as {filename}\")\n",
        "    else:\n",
        "        print(f\"Failed to download file. Status code: {response.status_code}\")\n",
        "\n",
        "download_file(\n",
        "    \"https://mlism-marketplace-documents.s3.ap-northeast-1.amazonaws.com/samples/gallery1.jpg\",\n",
        "    \"image.png\"\n",
        ")\n",
        "download_file(\n",
        "    \"https://www.soumu.go.jp/main_content/000975178.pdf\",\n",
        "    \"image.pdf\"\n",
        ")\n"
      ]
    },
    {
      "cell_type": "code",
      "execution_count": 2,
      "id": "fff0747f",
      "metadata": {},
      "outputs": [],
      "source": [
        "import json\n",
        "import boto3\n",
        "from botocore.exceptions import ClientError\n",
        "from pprint import pprint"
      ]
    },
    {
      "cell_type": "markdown",
      "id": "4ce65d3f",
      "metadata": {},
      "source": [
        "## Config Setup\n",
        "\n",
        "**Note**: This example assumes you have AWS credentials configured (via AWS CLI, environment variables, or IAM roles). For production use, consider using IAM roles instead of hardcoding credentials."
      ]
    },
    {
      "cell_type": "code",
      "execution_count": 4,
      "id": "75c4da57",
      "metadata": {},
      "outputs": [],
      "source": [
        "ENDPOINT_NAME = \"yomitoku-example-endpoint\"  # Replace with your actual endpoint name\n",
        "AWS_REGION = \"us-east-1\"  # Replace with your AWS region (e.g., us-west-2, ap-northeast-1)\n",
        "# You can replace your profile name here\n",
        "session = boto3.Session(profile_name = \"default\", region_name = AWS_REGION)\n",
        "sts = session.client(\"sts\")"
      ]
    },
    {
      "cell_type": "code",
      "execution_count": null,
      "id": "93828d97",
      "metadata": {},
      "outputs": [
        {
          "name": "stdout",
          "output_type": "stream",
          "text": [
            "✅ Using MFA session credentials\n",
            "Endpoint status: InService\n"
          ]
        }
      ],
      "source": [
        "\n",
        "# Initialize SageMaker runtime client\n",
        "# This uses your default AWS credentials (AWS CLI, environment variables, or IAM role)\n",
        "# If you do not need MFA, you can uncomment the following lines\n",
        "MFA_SERIAL     = None # if you do not need MFA, set to None\n",
        "MFA_TOKEN_ENV  = None # if you do not need MFA, set to \"\"\n",
        "\n",
        "# -------- Helper: MFA session --------\n",
        "def with_mfa_session(base_sess: boto3.Session, mfa_serial: str, token: str) -> boto3.Session:\n",
        "    \"\"\"\n",
        "    Create a session with MFA authentication.\n",
        "\n",
        "    Args:\n",
        "        base_sess: Base boto3 session (default creds / profile)\n",
        "        mfa_serial: MFA device ARN (e.g. arn:aws:iam::...:mfa/xxxx)\n",
        "        token: 6-digit MFA code\n",
        "    \"\"\"\n",
        "    sts = base_sess.client(\"sts\")\n",
        "    resp = sts.get_session_token(\n",
        "        SerialNumber=mfa_serial,\n",
        "        TokenCode=token,\n",
        "        DurationSeconds=43200  # 12h (受账号上限影响)\n",
        "    )\n",
        "    c = resp[\"Credentials\"]\n",
        "    return boto3.Session(\n",
        "        region_name=base_sess.region_name,\n",
        "        aws_access_key_id=c[\"AccessKeyId\"],\n",
        "        aws_secret_access_key=c[\"SecretAccessKey\"],\n",
        "        aws_session_token=c[\"SessionToken\"],\n",
        "    )\n",
        "\n",
        "# -------- Build session (default or MFA) --------\n",
        "base = boto3.Session(region_name=AWS_REGION)\n",
        "\n",
        "if MFA_SERIAL:\n",
        "    token = MFA_TOKEN_ENV or input(\"Enter MFA code: \").strip()\n",
        "    try:\n",
        "        session = with_mfa_session(base, MFA_SERIAL, token)\n",
        "        print(\"✅ Using MFA session credentials\")\n",
        "    except ClientError as e:\n",
        "        raise SystemExit(f\"❌ MFA failed: {e}\")\n",
        "else:\n",
        "    session = base\n",
        "    print(\"ℹ️ Using default AWS credentials/profile\")\n",
        "\n",
        "# -------- Clients --------\n",
        "sagemaker_runtime = session.client('sagemaker-runtime')\n",
        "sagemaker         = session.client('sagemaker')\n",
        "\n",
        "# -------- Optional: verify endpoint status --------\n",
        "try:\n",
        "    status = sagemaker.describe_endpoint(EndpointName=ENDPOINT_NAME)[\"EndpointStatus\"]\n",
        "    print(f\"Endpoint status: {status}\")\n",
        "except ClientError as e:\n",
        "    print(f\"Error checking endpoint status: {e}\")\n",
        "    print(\"Make sure your endpoint name is correct and you have proper permissions.\")"
      ]
    },
    {
      "cell_type": "markdown",
      "id": "dc269824",
      "metadata": {},
      "source": [
        "## Supported File Types\n",
        "\n",
        "Yomitoku Pro Document Analyzer supports the following file types:\n",
        "- **image/jpeg** - JPEG images\n",
        "- **image/png** - PNG images  \n",
        "- **image/tiff** - TIFF images\n",
        "- **application/pdf** - PDF files\n",
        "\n",
        "**Important**: Make sure to set the correct `ContentType` when invoking the endpoint."
      ]
    },
    {
      "cell_type": "markdown",
      "id": "9fca5828",
      "metadata": {},
      "source": [
        "## Inference Examples"
      ]
    },
    {
      "cell_type": "markdown",
      "id": "368a0567",
      "metadata": {},
      "source": [
        "### Image Analysis (PNG)"
      ]
    },
    {
      "cell_type": "code",
      "execution_count": 7,
      "id": "912ebdb1",
      "metadata": {},
      "outputs": [
        {
          "name": "stdout",
          "output_type": "stream",
          "text": [
            "=== Image Analysis Results ===\n",
            "(\"[{'preprocess': {'angle': 0.0, 'angle_score': 1.0}, 'paragraphs': [{'box': \"\n",
            " \"[1, 75, 747, 104], 'contents': 'TELEWORK\\\\nLEWORK', 'direction': \"\n",
            " \"'horizontal', 'order': 0, 'role': 'page_header', 'indent_level': None}, \"\n",
            " \"{'box': [907, 76, 2282, 105], 'contents': 'ORK\\\\nLEWORK TELEWORK', \"\n",
            " \"'direction': 'horizontal', 'order': 1, 'role': 'page_header', \"\n",
            " \"'indent_level': None}, {'box': [2367, 78, 3298, 106], 'contents': \"\n",
            " \"'テレワークのさらなる普及・定着に向け「テレワーク月間」を実施します!\\\\nTELEWORK', 'direction': 'horizontal', \"\n",
            " \"'order': 2, 'role': \")\n"
          ]
        }
      ],
      "source": [
        "with open(\"./image.png\", \"rb\") as f:\n",
        "    response = sagemaker_runtime.invoke_endpoint(\n",
        "        EndpointName=ENDPOINT_NAME,\n",
        "        ContentType=\"image/png\",\n",
        "        Body=f.read(),\n",
        "    )\n",
        "\n",
        "body_bytes = response[\"Body\"].read()\n",
        "result = json.loads(body_bytes)\n",
        "\n",
        "# Display basic information\n",
        "print(\"=== Image Analysis Results ===\")\n",
        "\n",
        "pprint(f\"{result['result']}\"[:500])\n",
        "\n",
        "# Uncomment below to see full result\n",
        "# pprint(result)"
      ]
    },
    {
      "cell_type": "markdown",
      "id": "b44ea0d7",
      "metadata": {},
      "source": [
        "### PDF Analysis"
      ]
    },
    {
      "cell_type": "code",
      "execution_count": 9,
      "id": "5bd57cf9",
      "metadata": {},
      "outputs": [
        {
          "name": "stdout",
          "output_type": "stream",
          "text": [
            "=== Image Analysis Results ===\n",
            "Number of pages analyzed: 9\n",
            "Page 1:\n",
            "(\"{'preprocess': {'angle': 0.0, 'angle_score': 0.9999990463256836}, \"\n",
            " \"'paragraphs': [{'box': [234, 74, 1424, 128], 'contents': \"\n",
            " \"'もっと知りたい!現在·未来のくらしと生活の情報誌', 'direction': 'horizontal', 'order': 0, 'role': \"\n",
            " \"None, 'indent_level': None}, {'box': [248, 150, 1377, 452], 'contents': \"\n",
            " \"'総務省', 'direction': 'horizontal', 'order': 1, 'role': 'section_headings', \"\n",
            " \"'indent_level': None}, {'box': [81, 486, 313, 521], 'contents': '2024 \"\n",
            " \"年11月号', 'direction': 'horizontal', 'order': 2, 'role': None, 'indent_level': \"\n",
            " \"None}, {'\")\n",
            "Page 2:\n",
            "(\"{'preprocess': {'angle': 0.0, 'angle_score': 1.0}, 'paragraphs': [{'box': \"\n",
            " \"[0, 76, 745, 106], 'contents': 'TELEWORK\\\\nLEWORK', 'direction': \"\n",
            " \"'horizontal', 'order': 0, 'role': 'page_header', 'indent_level': None}, \"\n",
            " \"{'box': [910, 77, 2289, 106], 'contents': 'RK\\\\nEWORK TELEWORK', \"\n",
            " \"'direction': 'horizontal', 'order': 1, 'role': 'page_header', \"\n",
            " \"'indent_level': None}, {'box': [2367, 79, 3301, 107], 'contents': \"\n",
            " \"'テレワークのさらなる普及・定着に向け「テレワーク月間」を実施します!\\\\nTELEWORK', 'direction': 'horizontal', \"\n",
            " \"'order': 2, 'role': 'pa\")\n",
            "Page 3:\n",
            "(\"{'preprocess': {'angle': 0.0, 'angle_score': 0.9999990463256836}, \"\n",
            " \"'paragraphs': [{'box': [0, 74, 2311, 108], 'contents': 'TELEWORK\\\\nORK', \"\n",
            " \"'direction': 'horizontal', 'order': 0, 'role': 'page_header', \"\n",
            " \"'indent_level': None}, {'box': [2368, 78, 3303, 108], 'contents': \"\n",
            " \"'テレワークのさらなる普及・定着に向け「テレワーク月間」を実施します!\\\\nTELEWORK', 'direction': 'horizontal', \"\n",
            " \"'order': 1, 'role': 'page_header', 'indent_level': None}, {'box': [155, 167, \"\n",
            " \"1096, 350], 'contents': 'テレワーク·ワンストップ·\\\\nサポート事業', 'direction': 'horizontal', \"\n",
            " \"'order\")\n"
          ]
        }
      ],
      "source": [
        "import json\n",
        "from pprint import pprint\n",
        "\n",
        "with open(\"./image.pdf\", \"rb\") as f:\n",
        "    response = sagemaker_runtime.invoke_endpoint(\n",
        "        EndpointName=ENDPOINT_NAME,\n",
        "        ContentType=\"application/pdf\",\n",
        "        Body=f.read(),\n",
        "    )\n",
        "\n",
        "body_bytes = response[\"Body\"].read()\n",
        "result = json.loads(body_bytes)\n",
        "# Display basic information\n",
        "print(\"=== Image Analysis Results ===\")\n",
        "\n",
        "pages = len(result[\"result\"])\n",
        "print(f\"Number of pages analyzed: {pages}\")\n",
        "\n",
        "page_num = 0\n",
        "for item in result[\"result\"][:3]:\n",
        "    page_num += 1\n",
        "    print(f\"Page {page_num}:\")\n",
        "    # top 500 characters\n",
        "    pprint(f\"{item}\"[:500])\n",
        "\n",
        "# Uncomment below to see full result\n",
        "# pprint(result)\n"
      ]
    },
    {
      "cell_type": "markdown",
      "id": "usage_tips",
      "metadata": {},
      "source": [
        "## Usage Tips\n",
        "\n",
        "1. **Large Files**: For large PDF files, consider processing them in smaller batches if possible.\n",
        "2. **Error Handling**: Always include proper error handling in production code.\n",
        "3. **Result Structure**: The API returns structured data with bounding boxes, confidence scores, and hierarchical text blocks.\n",
        "4. **Performance**: GPU instances (ml.g4dn.xlarge, ml.g5.xlarge) provide better performance for document analysis.\n",
        "\n",
        "For detailed API documentation and result structure, please refer to the product documentation in AWS Marketplace."
      ]
    },
    {
      "cell_type": "markdown",
      "id": "404d5835",
      "metadata": {},
      "source": []
    }
  ],
  "metadata": {
    "kernelspec": {
      "display_name": "notebooks-env",
      "language": "python",
      "name": "python3"
    },
    "language_info": {
      "codemirror_mode": {
        "name": "ipython",
        "version": 3
      },
      "file_extension": ".py",
      "mimetype": "text/x-python",
      "name": "python",
      "nbconvert_exporter": "python",
      "pygments_lexer": "ipython3",
      "version": "3.9.12"
    }
  },
  "nbformat": 4,
  "nbformat_minor": 5
}
