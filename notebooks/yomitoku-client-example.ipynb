{
 "cells": [
  {
   "cell_type": "code",
   "execution_count": 1,
   "id": "06d671b1",
   "metadata": {},
   "outputs": [],
   "source": [
    "from yomitoku_client import YomitokuClient\n",
    "from yomitoku_client.parsers.sagemaker_parser import SageMakerParser\n",
    "from yomitoku_client import pdf_sample, image_sample\n",
    "from pprint import pprint"
   ]
  },
  {
   "cell_type": "code",
   "execution_count": 2,
   "id": "ef5cdce1",
   "metadata": {},
   "outputs": [],
   "source": [
    "client = YomitokuClient()\n",
    "parser = SageMakerParser()"
   ]
  },
  {
   "cell_type": "markdown",
   "id": "479762c8",
   "metadata": {},
   "source": [
    "## 画像例"
   ]
  },
  {
   "cell_type": "code",
   "execution_count": 3,
   "id": "b8dcafd1",
   "metadata": {},
   "outputs": [
    {
     "name": "stdout",
     "output_type": "stream",
     "text": [
      "--- Document 1 ---\n",
      "\"TELEWORK\n",
      "LEWORK\"\n",
      "\n",
      "\"ORK\n",
      "LEWORK TELEWORK\"\n",
      "\n",
      "\"テレワークのさらなる普及・定着に向け「テレワーク月間」を実施します!\n",
      "--- Document 1 ---\n",
      "TELEWORK<br>LEWORK\n",
      "ORK<br>LEWORK TELEWORK\n",
      "テレワークのさらなる普及・定着に向け「テレワーク月間」を実施します\\!<br>\n",
      "--- Document 1 ---\n",
      "<div><p>TELEWORK<br/>LEWORK</p>\n",
      "<p>ORK<br/>LEWORK TELEWORK</p>\n",
      "<p>テレワークのさらなる普及・定着\n",
      "--- Document 1 ---\n",
      "{\n",
      "    \"figures\": [\n",
      "        {\n",
      "            \"box\": [\n",
      "                724,\n",
      "          \n"
     ]
    }
   ],
   "source": [
    "img_data = parser.parse_dict(image_sample)\n",
    "\n",
    "print(client.convert_to_format(img_data, 'csv')[:100])\n",
    "print(client.convert_to_format(img_data, 'md')[:100])\n",
    "print(client.convert_to_format(img_data, 'html')[:100])\n",
    "print(client.convert_to_format(img_data, 'json')[:100])"
   ]
  },
  {
   "cell_type": "markdown",
   "id": "c6033c05",
   "metadata": {},
   "source": [
    "## PDF 例"
   ]
  },
  {
   "cell_type": "code",
   "execution_count": 4,
   "id": "107295c1",
   "metadata": {},
   "outputs": [
    {
     "name": "stdout",
     "output_type": "stream",
     "text": [
      "--- Document 1 ---\n",
      "もっと知りたい!現在·未来のくらしと生活の情報誌\n",
      "\n",
      "総務省\n",
      "\n",
      "2024 年11月号\n",
      "\n",
      "\"Ministry of\n",
      "Internal Affairs an\n",
      "--- Document 1 ---\n",
      "もっと知りたい\\!現在·未来のくらしと生活の情報誌\n",
      "# 総務省\n",
      "2024 年11月号\n",
      "Ministry of<br>Internal Affairs and<br\n",
      "--- Document 1 ---\n",
      "<div><p>もっと知りたい!現在·未来のくらしと生活の情報誌</p>\n",
      "<h1>総務省</h1>\n",
      "<p>2024 年11月号</p>\n",
      "<p>Ministry o\n",
      "--- Document 1 ---\n",
      "{\n",
      "    \"figures\": [\n",
      "        {\n",
      "            \"box\": [\n",
      "                1475,\n",
      "         \n"
     ]
    }
   ],
   "source": [
    "pdf_data = parser.parse_dict(pdf_sample)\n",
    "print(client.convert_to_format(pdf_data, 'csv')[:100])\n",
    "print(client.convert_to_format(pdf_data, 'md')[:100])\n",
    "print(client.convert_to_format(pdf_data, 'html')[:100])\n",
    "print(client.convert_to_format(pdf_data, 'json')[:100])"
   ]
  }
 ],
 "metadata": {
  "kernelspec": {
   "display_name": ".venv",
   "language": "python",
   "name": "python3"
  },
  "language_info": {
   "codemirror_mode": {
    "name": "ipython",
    "version": 3
   },
   "file_extension": ".py",
   "mimetype": "text/x-python",
   "name": "python",
   "nbconvert_exporter": "python",
   "pygments_lexer": "ipython3",
   "version": "3.11.13"
  }
 },
 "nbformat": 4,
 "nbformat_minor": 5
}
